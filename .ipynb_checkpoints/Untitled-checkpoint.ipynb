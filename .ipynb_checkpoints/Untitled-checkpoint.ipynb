{
 "cells": [
  {
   "cell_type": "code",
   "execution_count": 12,
   "metadata": {},
   "outputs": [],
   "source": [
    "from bs4 import BeautifulSoup\n",
    "import requests\n",
    "from datetime import datetime, timedelta\n",
    "import smtplib\n",
    "from email.mime.multipart import MIMEMultipart\n",
    "from email.mime.text import MIMEText\n",
    "\n",
    "from dotenv import load_dotenv\n",
    "import os"
   ]
  },
  {
   "cell_type": "code",
   "execution_count": 13,
   "metadata": {},
   "outputs": [
    {
     "data": {
      "text/plain": [
       "True"
      ]
     },
     "execution_count": 13,
     "metadata": {},
     "output_type": "execute_result"
    }
   ],
   "source": [
    "load_dotenv()"
   ]
  },
  {
   "cell_type": "code",
   "execution_count": 14,
   "metadata": {},
   "outputs": [],
   "source": [
    "##### GET THE DATE AND COMPARE WITH TODAT\n",
    "\n",
    "# URL of the webpage you want to scrape\n",
    "url = 'https://www.cgeonline.com.ar/informacion/apertura-de-citas.html'\n",
    "\n",
    "# Send a GET request to the URL\n",
    "response = requests.get(url)\n",
    "\n",
    "# Parse the HTML content of the webpage\n",
    "soup = BeautifulSoup(response.text, 'html.parser')\n",
    "\n",
    "# Find all <td> elements\n",
    "td_elements = soup.find_all('td')\n",
    "\n",
    "# Search for the <td> element containing 'Visados'\n",
    "for index, td in enumerate(td_elements):\n",
    "    if td.get_text(strip=True) == 'Visados':\n",
    "        # Get the next <td> element\n",
    "        date_td = td_elements[index + 2]  # Index + 2 for the second <td> after 'Visados'\n",
    "        date_text = date_td.get_text(strip=True)\n",
    "        break\n",
    "\n",
    "# Extract the date part from the string\n",
    "date_part = date_text.split()[1]  # '04/04/2024'\n",
    "\n",
    "# Parse the date string to a datetime object\n",
    "date_object = datetime.strptime(date_part, '%d/%m/%Y').date()\n",
    "\n",
    "# Get today's date\n",
    "today = datetime.now().date()"
   ]
  },
  {
   "cell_type": "code",
   "execution_count": 16,
   "metadata": {},
   "outputs": [
    {
     "ename": "TypeError",
     "evalue": "'NoneType' object is not iterable",
     "output_type": "error",
     "traceback": [
      "\u001b[0;31m---------------------------------------------------------------------------\u001b[0m",
      "\u001b[0;31mTypeError\u001b[0m                                 Traceback (most recent call last)",
      "Cell \u001b[0;32mIn [16], line 27\u001b[0m\n\u001b[1;32m     24\u001b[0m         server\u001b[38;5;241m.\u001b[39msendmail(sender_email, receiver_email, msg\u001b[38;5;241m.\u001b[39mas_string())\n\u001b[1;32m     26\u001b[0m \u001b[38;5;66;03m# Example usage\u001b[39;00m\n\u001b[0;32m---> 27\u001b[0m \u001b[43msend_email\u001b[49m\u001b[43m(\u001b[49m\u001b[38;5;124;43m'\u001b[39;49m\u001b[38;5;124;43mTest Subject\u001b[39;49m\u001b[38;5;124;43m'\u001b[39;49m\u001b[43m,\u001b[49m\u001b[43m \u001b[49m\u001b[38;5;124;43m'\u001b[39;49m\u001b[38;5;124;43mTest Body\u001b[39;49m\u001b[38;5;124;43m'\u001b[39;49m\u001b[43m)\u001b[49m\n",
      "Cell \u001b[0;32mIn [16], line 24\u001b[0m, in \u001b[0;36msend_email\u001b[0;34m(subject, body)\u001b[0m\n\u001b[1;32m     22\u001b[0m server\u001b[38;5;241m.\u001b[39mstarttls()\n\u001b[1;32m     23\u001b[0m server\u001b[38;5;241m.\u001b[39mlogin(smtp_username, smtp_password)\n\u001b[0;32m---> 24\u001b[0m \u001b[43mserver\u001b[49m\u001b[38;5;241;43m.\u001b[39;49m\u001b[43msendmail\u001b[49m\u001b[43m(\u001b[49m\u001b[43msender_email\u001b[49m\u001b[43m,\u001b[49m\u001b[43m \u001b[49m\u001b[43mreceiver_email\u001b[49m\u001b[43m,\u001b[49m\u001b[43m \u001b[49m\u001b[43mmsg\u001b[49m\u001b[38;5;241;43m.\u001b[39;49m\u001b[43mas_string\u001b[49m\u001b[43m(\u001b[49m\u001b[43m)\u001b[49m\u001b[43m)\u001b[49m\n",
      "File \u001b[0;32m/opt/anaconda3/lib/python3.8/smtplib.py:873\u001b[0m, in \u001b[0;36mSMTP.sendmail\u001b[0;34m(self, from_addr, to_addrs, msg, mail_options, rcpt_options)\u001b[0m\n\u001b[1;32m    871\u001b[0m \u001b[38;5;28;01mif\u001b[39;00m \u001b[38;5;28misinstance\u001b[39m(to_addrs, \u001b[38;5;28mstr\u001b[39m):\n\u001b[1;32m    872\u001b[0m     to_addrs \u001b[38;5;241m=\u001b[39m [to_addrs]\n\u001b[0;32m--> 873\u001b[0m \u001b[38;5;28;01mfor\u001b[39;00m each \u001b[38;5;129;01min\u001b[39;00m to_addrs:\n\u001b[1;32m    874\u001b[0m     (code, resp) \u001b[38;5;241m=\u001b[39m \u001b[38;5;28mself\u001b[39m\u001b[38;5;241m.\u001b[39mrcpt(each, rcpt_options)\n\u001b[1;32m    875\u001b[0m     \u001b[38;5;28;01mif\u001b[39;00m (code \u001b[38;5;241m!=\u001b[39m \u001b[38;5;241m250\u001b[39m) \u001b[38;5;129;01mand\u001b[39;00m (code \u001b[38;5;241m!=\u001b[39m \u001b[38;5;241m251\u001b[39m):\n",
      "\u001b[0;31mTypeError\u001b[0m: 'NoneType' object is not iterable"
     ]
    }
   ],
   "source": [
    "# Function to send email\n",
    "def send_email(subject, body):\n",
    "    # Email configuration\n",
    "    sender_email = os.getenv('python_sender')\n",
    "    receiver_email = os.getenv('python_receiver')\n",
    "    smtp_server = 'smtp.gmail.com'\n",
    "    smtp_port = 587\n",
    "    smtp_username = os.getenv('python_sender')\n",
    "    smtp_password = os.getenv('python_pass')\n",
    "    \n",
    "    # Create a MIME object\n",
    "    msg = MIMEMultipart()\n",
    "    msg['From'] = sender_email\n",
    "    msg['To'] = receiver_email\n",
    "    msg['Subject'] = subject\n",
    "\n",
    "    # Attach the body of the email\n",
    "    msg.attach(MIMEText(body, 'plain'))\n",
    "    \n",
    "    # Connect to the SMTP server and send the email\n",
    "    with smtplib.SMTP(smtp_server, smtp_port) as server:\n",
    "        server.starttls()\n",
    "        server.login(smtp_username, smtp_password)\n",
    "        server.sendmail(sender_email, receiver_email, msg.as_string())\n",
    "        \n",
    "# Example usage\n",
    "send_email('Test Subject', 'Test Body')"
   ]
  },
  {
   "cell_type": "code",
   "execution_count": 20,
   "metadata": {},
   "outputs": [
    {
     "data": {
      "text/plain": [
       "'rioseze.89@gmail.com'"
      ]
     },
     "execution_count": 20,
     "metadata": {},
     "output_type": "execute_result"
    }
   ],
   "source": [
    "os.getenv('python_receiver')"
   ]
  },
  {
   "cell_type": "code",
   "execution_count": null,
   "metadata": {},
   "outputs": [],
   "source": []
  }
 ],
 "metadata": {
  "kernelspec": {
   "display_name": "Python 3 (ipykernel)",
   "language": "python",
   "name": "python3"
  },
  "language_info": {
   "codemirror_mode": {
    "name": "ipython",
    "version": 3
   },
   "file_extension": ".py",
   "mimetype": "text/x-python",
   "name": "python",
   "nbconvert_exporter": "python",
   "pygments_lexer": "ipython3",
   "version": "3.8.8"
  }
 },
 "nbformat": 4,
 "nbformat_minor": 4
}
