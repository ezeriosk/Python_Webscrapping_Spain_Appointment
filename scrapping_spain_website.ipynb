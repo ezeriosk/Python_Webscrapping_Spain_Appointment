{
 "cells": [
  {
   "cell_type": "code",
   "execution_count": 14,
   "metadata": {},
   "outputs": [],
   "source": [
    "from bs4 import BeautifulSoup\n",
    "import requests\n",
    "from datetime import datetime, timedelta\n",
    "import smtplib\n",
    "from email.mime.multipart import MIMEMultipart\n",
    "from email.mime.text import MIMEText\n",
    "\n",
    "from dotenv import load_dotenv\n",
    "import os"
   ]
  },
  {
   "cell_type": "code",
   "execution_count": 15,
   "metadata": {},
   "outputs": [
    {
     "data": {
      "text/plain": [
       "True"
      ]
     },
     "execution_count": 15,
     "metadata": {},
     "output_type": "execute_result"
    }
   ],
   "source": [
    "load_dotenv()"
   ]
  },
  {
   "cell_type": "code",
   "execution_count": 16,
   "metadata": {},
   "outputs": [],
   "source": [
    "##### GET THE DATE AND COMPARE WITH TODAT\n",
    "\n",
    "# URL of the webpage you want to scrape\n",
    "url = 'https://www.cgeonline.com.ar/informacion/apertura-de-citas.html'\n",
    "\n",
    "# Send a GET request to the URL\n",
    "response = requests.get(url)\n",
    "\n",
    "# Parse the HTML content of the webpage\n",
    "soup = BeautifulSoup(response.text, 'html.parser')\n",
    "\n",
    "# Find all <td> elements\n",
    "td_elements = soup.find_all('td')\n",
    "\n",
    "# Search for the <td> element containing 'Visados'\n",
    "for index, td in enumerate(td_elements):\n",
    "    if td.get_text(strip=True) == 'Visados':\n",
    "        # Get the next <td> element\n",
    "        date_td = td_elements[index + 2]  # Index + 2 for the second <td> after 'Visados'\n",
    "        date_text = date_td.get_text(strip=True)\n",
    "        break\n",
    "\n",
    "# Extract the date part from the string\n",
    "date_part = date_text.split()[1]  # '04/04/2024'\n",
    "\n",
    "# Parse the date string to a datetime object\n",
    "date_object = datetime.strptime(date_part, '%d/%m/%Y').date()\n",
    "\n",
    "# Get today's date\n",
    "today = datetime.now().date()"
   ]
  },
  {
   "cell_type": "code",
   "execution_count": 17,
   "metadata": {},
   "outputs": [],
   "source": [
    "# Function to send email\n",
    "def send_email(subject, body):\n",
    "    # Email configuration\n",
    "    sender_email = os.getenv('python_sender')\n",
    "    receiver_email = os.getenv('python_receiver')\n",
    "    smtp_server = 'smtp.gmail.com'\n",
    "    smtp_port = 587\n",
    "    smtp_username = os.getenv('python_sender')\n",
    "    smtp_password = os.getenv('python_pass')\n",
    "    \n",
    "    # Create a MIME object\n",
    "    msg = MIMEMultipart()\n",
    "    msg['From'] = sender_email\n",
    "    msg['To'] = receiver_email\n",
    "    msg['Subject'] = subject\n",
    "\n",
    "    # Attach the body of the email\n",
    "    msg.attach(MIMEText(body, 'plain'))\n",
    "    \n",
    "    # Connect to the SMTP server and send the email\n",
    "    with smtplib.SMTP(smtp_server, smtp_port) as server:\n",
    "        server.starttls()\n",
    "        server.login(smtp_username, smtp_password)\n",
    "        server.sendmail(sender_email, receiver_email, msg.as_string())"
   ]
  },
  {
   "cell_type": "code",
   "execution_count": 18,
   "metadata": {},
   "outputs": [],
   "source": [
    "# Compare dates\n",
    "if date_object < today:\n",
    "    # Date is before today\n",
    "    subject = 'No news! 👎'\n",
    "    body = f'The last day so far was: {date_text}'\n",
    "else:\n",
    "    # Date is today or after\n",
    "    subject = 'New dates !!!!! 🎉'\n",
    "    body = f'The new date is: {date_text}'\n",
    "\n",
    "# Send email\n",
    "send_email(subject, body)"
   ]
  },
  {
   "cell_type": "code",
   "execution_count": null,
   "metadata": {},
   "outputs": [],
   "source": []
  }
 ],
 "metadata": {
  "kernelspec": {
   "display_name": "Python 3 (ipykernel)",
   "language": "python",
   "name": "python3"
  },
  "language_info": {
   "codemirror_mode": {
    "name": "ipython",
    "version": 3
   },
   "file_extension": ".py",
   "mimetype": "text/x-python",
   "name": "python",
   "nbconvert_exporter": "python",
   "pygments_lexer": "ipython3",
   "version": "3.8.8"
  }
 },
 "nbformat": 4,
 "nbformat_minor": 4
}
